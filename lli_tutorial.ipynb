{
  "nbformat": 4,
  "nbformat_minor": 0,
  "metadata": {
    "colab": {
      "provenance": [],
      "authorship_tag": "ABX9TyNLbtdTDIlRs4ti6dKACV5M",
      "include_colab_link": true
    },
    "kernelspec": {
      "name": "python3",
      "display_name": "Python 3"
    },
    "language_info": {
      "name": "python"
    }
  },
  "cells": [
    {
      "cell_type": "markdown",
      "metadata": {
        "id": "view-in-github",
        "colab_type": "text"
      },
      "source": [
        "<a href=\"https://colab.research.google.com/github/tungnguyen1234/LLI-Recommender-System/blob/master/lli_tutorial.ipynb\" target=\"_parent\"><img src=\"https://colab.research.google.com/assets/colab-badge.svg\" alt=\"Open In Colab\"/></a>"
      ]
    },
    {
      "cell_type": "code",
      "execution_count": null,
      "metadata": {
        "id": "yEZLXsIIAHeR"
      },
      "outputs": [],
      "source": [
        "!git clone https://github.com/tungnguyen1234/LLI-Recommender-System.git"
      ]
    },
    {
      "cell_type": "code",
      "source": [
        "%cd LLI-Recommender-System"
      ],
      "metadata": {
        "colab": {
          "base_uri": "https://localhost:8080/"
        },
        "id": "LxUn-dsrANdP",
        "outputId": "1ea7abfe-042e-4911-effc-3e20bc0469d8"
      },
      "execution_count": 3,
      "outputs": [
        {
          "output_type": "stream",
          "name": "stdout",
          "text": [
            "/content/LLI-Recommender-System\n"
          ]
        }
      ]
    },
    {
      "cell_type": "code",
      "source": [
        "!python src/main.py 3 ml-1m --num_feature 2 --gpuid 0 --limit 100"
      ],
      "metadata": {
        "colab": {
          "base_uri": "https://localhost:8080/"
        },
        "id": "5tbeKdebAR0f",
        "outputId": "080c1c87-1e1e-4d80-ff4a-8ffa049cc58a"
      },
      "execution_count": 11,
      "outputs": [
        {
          "output_type": "stream",
          "name": "stdout",
          "text": [
            "-------------------------------------------------\n",
            "Here we test the algorithm with feature {'age', 'occup'}\n",
            "The algorithm runs 10 times to get the mean and std!\n",
            "Step 1:\n",
            "100% 6040/6040 [00:00<00:00, 392227.72it/s]\n",
            "tcmalloc: large alloc 1880276992 bytes == 0x314cc000 @  0x7f7826d92b6b 0x7f7826db2379 0x7f77af959d57 0x7f77af947bc3 0x7f77d98526af 0x7f77d9853020 0x7f77d9853074 0x7f77d9d64def 0x7f77da5d6b8b 0x7f77da3221d3 0x7f77da5b1b8f 0x7f77da35fbf7 0x7f78018b5860 0x7f77d9d6c1a4 0x7f77da826d15 0x7f77da0cc80e 0x7f77da5b0375 0x7f77da1121b2 0x7f7801595ce7 0x58ec54 0x51b4e6 0x58f2a7 0x517947 0x58f2a7 0x517947 0x58f2a7 0x517947 0x58f2a7 0x517947 0x58f2a7 0x517947\n",
            "100% 6040/6040 [00:00<00:00, 334693.18it/s]\n",
            "tcmalloc: large alloc 2417500160 bytes == 0xa15f8000 @  0x7f7826d92b6b 0x7f7826db2379 0x7f77af959d57 0x7f77af947bc3 0x7f77d98526af 0x7f77d9853020 0x7f77d9853074 0x7f77d98531bf 0x7f77da5da82b 0x7f77da63dd42 0x7f77d9d7de37 0x7f77da5e389e 0x7f77da5e3923 0x7f77da0b849c 0x7f77db632fe5 0x7f77db6337b6 0x7f77da0f4565 0x7f780165bc92 0x58ed05 0x51babb 0x58f2a7 0x517947 0x58f2a7 0x517947 0x58f2a7 0x517947 0x58f2a7 0x517947 0x58f2a7 0x517947 0x58f2a7\n",
            "tcmalloc: large alloc 4835000320 bytes == 0x13177a000 @  0x7f7826d92b6b 0x7f7826db2379 0x7f77af959d57 0x7f77af947bc3 0x7f77d985187f 0x7f77d9851aca 0x7f77d9851b2f 0x7f77d9d64e49 0x7f77da5d6cb0 0x7f77da3223ee 0x7f77da5afe4e 0x7f77da3622c2 0x7f77d9d5f2f1 0x7f77da72964b 0x7f77da0acfff 0x7f77da5b1fcc 0x7f77da124fa4 0x7f77d9d5424b 0x7f77da827b50 0x7f77da255b3f 0x7f77d98974fc 0x7f77d98999df 0x7f77d989aea2 0x7f77da605ae5 0x7f77da605b50 0x7f77da0a665c 0x7f77db659e39 0x7f77db65a8b3 0x7f77da0eba54 0x7f78015503ad 0x7f7801550497\n",
            "tcmalloc: large alloc 4835000320 bytes == 0x26702e000 @  0x7f7826d92b6b 0x7f7826db2379 0x7f77af959d57 0x7f77af947bc3 0x7f77d98526af 0x7f77d9853020 0x7f77d9853074 0x7f77d98531bf 0x7f77da5da82b 0x7f77da649c36 0x7f77d98981cf 0x7f77d9899b83 0x7f77d989aea2 0x7f77da605ae5 0x7f77da605b50 0x7f77da0a665c 0x7f77db659e39 0x7f77db65a8b3 0x7f77da0eba54 0x7f78015503ad 0x7f7801550497 0x58eee4 0x5901a3 0x5a7552 0x6146ec 0x4e69f2 0x518459 0x58f2a7 0x517947 0x58f2a7 0x517947\n",
            "^C\n"
          ]
        }
      ]
    }
  ]
}