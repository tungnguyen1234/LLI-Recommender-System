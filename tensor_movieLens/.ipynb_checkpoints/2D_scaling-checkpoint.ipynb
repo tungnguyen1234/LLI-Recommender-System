{
 "cells": [
  {
   "cell_type": "code",
   "execution_count": 8,
   "id": "df19ede1",
   "metadata": {},
   "outputs": [
    {
     "name": "stdout",
     "output_type": "stream",
     "text": [
      "1.3.4\n"
     ]
    }
   ],
   "source": [
    "import pandas as pd\n",
    "import numpy as np\n",
    "print(pd.__version__)\n",
    "import sys"
   ]
  },
  {
   "cell_type": "markdown",
   "id": "701180c1",
   "metadata": {},
   "source": [
    "# 2D matrix"
   ]
  },
  {
   "cell_type": "code",
   "execution_count": 26,
   "id": "30de0b43",
   "metadata": {},
   "outputs": [],
   "source": [
    "def matrix_movielens_csv(rating_path):\n",
    "    ratings = pd.read_csv('ratings.csv')\n",
    "    df = DataFrame(ratings)\n",
    "    df.columns = [\"UserID\", \"MovieID\",\"Rating\",\"Timestamp\"]\n",
    "    \n",
    "    sort_ratings = df.sort_values(by = ['UserID', 'MovieID'], ignore_index = True)\n",
    "    sort_ratings_fill_0 = sort_ratings.fillna(0)\n",
    "    matrix_ratings = sort_ratings_fill_0.pivot(index = 'UserID', columns = 'MovieID', values = 'Rating').fillna(0)\n",
    "    matrix_ratings = matrix_ratings.to_numpy()\n",
    "    \n",
    "    return matrix_ratings"
   ]
  },
  {
   "cell_type": "code",
   "execution_count": 15,
   "id": "b0c58558",
   "metadata": {},
   "outputs": [],
   "source": [
    "rating_path = sys.path.insert(1, '.../')\n",
    "matrix = matrix_movielens_csv(rating_path)"
   ]
  },
  {
   "cell_type": "code",
   "execution_count": 32,
   "id": "1ba65226",
   "metadata": {
    "scrolled": true
   },
   "outputs": [
    {
     "name": "stdout",
     "output_type": "stream",
     "text": [
      "[[5. 0. 0. ... 0. 0. 0.]\n",
      " [0. 0. 0. ... 0. 0. 0.]\n",
      " [0. 0. 0. ... 0. 0. 0.]\n",
      " ...\n",
      " [0. 0. 0. ... 0. 0. 0.]\n",
      " [0. 0. 0. ... 0. 0. 0.]\n",
      " [3. 0. 0. ... 0. 0. 0.]] (6040, 3706)\n"
     ]
    }
   ],
   "source": [
    "# matrix = matrix_movielens_csv()\n",
    "print(matrix, matrix.shape)"
   ]
  },
  {
   "cell_type": "code",
   "execution_count": null,
   "id": "3dc13e8d",
   "metadata": {},
   "outputs": [],
   "source": [
    "function [MAE, MSE, matrix_try, matrix_test] = RZ_algo_Uhl_3D(A, percent)\n",
    "  #A_trial = A;\n",
    "  [user, film] = find(A);\n",
    "  r = randperm(length(user));\n",
    "  numele = round(percent*length(user));\n",
    "  r = r(1:numele);\n",
    "  matrix_try = [];\n",
    "  matrix_test = matrix_test_1 = matrix_test_2 = [];\n",
    "  # Setup\n",
    "  for i = 1:length(r)\n",
    "    x = user(r(i));\n",
    "    y = film(r(i));\n",
    "    matrix_try = [matrix_try A(x, y)];\n",
    "    A(x, y) = 0;\n",
    "  end \n",
    "  #Scaling\n",
    "  # row -> col\n",
    "  # col -> row \n",
    "  [uk, vk, A_2D] = RZ_algo_2D(A);\n",
    "  #Test\n",
    "  for i = 1:length(r)\n",
    "    user_i = user(r(i));\n",
    "    film_i = film(r(i));\n",
    "    matrix_test = [matrix_test A_2D(user_i, film_i)/(uk(user_i)*vk(film_i))];\n",
    "  end\n",
    "\n",
    "  MAE = sum(abs(matrix_try - matrix_test))/length(r);\n",
    "  MSE = sum(abs(matrix_try - matrix_test).^2)/length(r);\n",
    "end "
   ]
  },
  {
   "cell_type": "code",
   "execution_count": 11,
   "id": "bdaa7104",
   "metadata": {},
   "outputs": [],
   "source": []
  },
  {
   "cell_type": "code",
   "execution_count": 12,
   "id": "eb0f60ec",
   "metadata": {},
   "outputs": [
    {
     "ename": "SyntaxError",
     "evalue": "invalid syntax (1782830836.py, line 1)",
     "output_type": "error",
     "traceback": [
      "\u001b[0;36m  File \u001b[0;32m\"/var/folders/49/pg5yxbs953d7nt095vtk4dzm0000gn/T/ipykernel_76047/1782830836.py\"\u001b[0;36m, line \u001b[0;32m1\u001b[0m\n\u001b[0;31m    def tensor_construction(A, age, occupation, percent)\u001b[0m\n\u001b[0m                                                          ^\u001b[0m\n\u001b[0;31mSyntaxError\u001b[0m\u001b[0;31m:\u001b[0m invalid syntax\n"
     ]
    }
   ],
   "source": []
  },
  {
   "cell_type": "code",
   "execution_count": 19,
   "id": "629eac17",
   "metadata": {},
   "outputs": [],
   "source": []
  },
  {
   "cell_type": "code",
   "execution_count": 22,
   "id": "8f75c2bc",
   "metadata": {},
   "outputs": [
    {
     "name": "stdout",
     "output_type": "stream",
     "text": [
      "            1  1193  5  978300760\n",
      "0           1   661  3  978302109\n",
      "1           1   914  3  978301968\n",
      "2           1  3408  4  978300275\n",
      "3           1  2355  5  978824291\n",
      "4           1  1197  3  978302268\n",
      "...       ...   ... ..        ...\n",
      "1000203  6040  1091  1  956716541\n",
      "1000204  6040  1094  5  956704887\n",
      "1000205  6040   562  5  956704746\n",
      "1000206  6040  1096  4  956715648\n",
      "1000207  6040  1097  4  956715569\n",
      "\n",
      "[1000208 rows x 4 columns]\n"
     ]
    },
    {
     "ename": "TypeError",
     "evalue": "'Index' object is not callable",
     "output_type": "error",
     "traceback": [
      "\u001b[0;31m---------------------------------------------------------------------------\u001b[0m",
      "\u001b[0;31mTypeError\u001b[0m                                 Traceback (most recent call last)",
      "\u001b[0;32m/var/folders/49/pg5yxbs953d7nt095vtk4dzm0000gn/T/ipykernel_76047/3679776627.py\u001b[0m in \u001b[0;36m<module>\u001b[0;34m\u001b[0m\n\u001b[1;32m      1\u001b[0m \u001b[0;32mif\u001b[0m \u001b[0m__name__\u001b[0m \u001b[0;34m==\u001b[0m \u001b[0;34m'__main__'\u001b[0m\u001b[0;34m:\u001b[0m\u001b[0;34m\u001b[0m\u001b[0;34m\u001b[0m\u001b[0m\n\u001b[1;32m      2\u001b[0m     \u001b[0;31m# Movielens_dat_into_csv()\u001b[0m\u001b[0;34m\u001b[0m\u001b[0;34m\u001b[0m\u001b[0m\n\u001b[0;32m----> 3\u001b[0;31m     \u001b[0mmatrix\u001b[0m \u001b[0;34m=\u001b[0m \u001b[0mmatrix_movielens_csv\u001b[0m\u001b[0;34m(\u001b[0m\u001b[0;34m)\u001b[0m\u001b[0;34m\u001b[0m\u001b[0;34m\u001b[0m\u001b[0m\n\u001b[0m",
      "\u001b[0;32m/var/folders/49/pg5yxbs953d7nt095vtk4dzm0000gn/T/ipykernel_76047/1389012402.py\u001b[0m in \u001b[0;36mmatrix_movielens_csv\u001b[0;34m()\u001b[0m\n\u001b[1;32m      4\u001b[0m     \u001b[0mratings\u001b[0m \u001b[0;34m=\u001b[0m \u001b[0mpd\u001b[0m\u001b[0;34m.\u001b[0m\u001b[0mread_csv\u001b[0m\u001b[0;34m(\u001b[0m\u001b[0;34m'ratings.csv'\u001b[0m\u001b[0;34m)\u001b[0m\u001b[0;34m\u001b[0m\u001b[0;34m\u001b[0m\u001b[0m\n\u001b[1;32m      5\u001b[0m     \u001b[0mprint\u001b[0m\u001b[0;34m(\u001b[0m\u001b[0mratings\u001b[0m\u001b[0;34m)\u001b[0m\u001b[0;34m\u001b[0m\u001b[0;34m\u001b[0m\u001b[0m\n\u001b[0;32m----> 6\u001b[0;31m     \u001b[0mratings\u001b[0m\u001b[0;34m.\u001b[0m\u001b[0mcolumns\u001b[0m\u001b[0;34m(\u001b[0m\u001b[0;34m[\u001b[0m\u001b[0;34m'UserID'\u001b[0m\u001b[0;34m,\u001b[0m \u001b[0;34m'MovieID'\u001b[0m\u001b[0;34m]\u001b[0m\u001b[0;34m)\u001b[0m\u001b[0;34m\u001b[0m\u001b[0;34m\u001b[0m\u001b[0m\n\u001b[0m\u001b[1;32m      7\u001b[0m     \u001b[0msort_ratings\u001b[0m \u001b[0;34m=\u001b[0m \u001b[0mratings\u001b[0m\u001b[0;34m.\u001b[0m\u001b[0msort_values\u001b[0m\u001b[0;34m(\u001b[0m\u001b[0mby\u001b[0m \u001b[0;34m=\u001b[0m \u001b[0;34m[\u001b[0m\u001b[0;34m'UserID'\u001b[0m\u001b[0;34m,\u001b[0m \u001b[0;34m'MovieID'\u001b[0m\u001b[0;34m]\u001b[0m\u001b[0;34m,\u001b[0m \u001b[0mignore_index\u001b[0m \u001b[0;34m=\u001b[0m \u001b[0;32mTrue\u001b[0m\u001b[0;34m)\u001b[0m\u001b[0;34m\u001b[0m\u001b[0;34m\u001b[0m\u001b[0m\n\u001b[1;32m      8\u001b[0m     \u001b[0msort_ratings_fill_0\u001b[0m \u001b[0;34m=\u001b[0m \u001b[0msort_ratings\u001b[0m\u001b[0;34m.\u001b[0m\u001b[0mfillna\u001b[0m\u001b[0;34m(\u001b[0m\u001b[0;36m0\u001b[0m\u001b[0;34m)\u001b[0m\u001b[0;34m\u001b[0m\u001b[0;34m\u001b[0m\u001b[0m\n",
      "\u001b[0;31mTypeError\u001b[0m: 'Index' object is not callable"
     ]
    }
   ],
   "source": [
    "if __name__ == '__main__':\n",
    "    # Movielens_dat_into_csv()\n",
    "    matrix = matrix_movielens_csv()"
   ]
  },
  {
   "cell_type": "code",
   "execution_count": null,
   "id": "6c3189e2",
   "metadata": {},
   "outputs": [],
   "source": []
  }
 ],
 "metadata": {
  "kernelspec": {
   "display_name": "Python 3 (ipykernel)",
   "language": "python",
   "name": "python3"
  },
  "language_info": {
   "codemirror_mode": {
    "name": "ipython",
    "version": 3
   },
   "file_extension": ".py",
   "mimetype": "text/x-python",
   "name": "python",
   "nbconvert_exporter": "python",
   "pygments_lexer": "ipython3",
   "version": "3.9.7"
  }
 },
 "nbformat": 4,
 "nbformat_minor": 5
}
